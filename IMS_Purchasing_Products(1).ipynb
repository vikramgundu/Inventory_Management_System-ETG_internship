{
  "nbformat": 4,
  "nbformat_minor": 0,
  "metadata": {
    "colab": {
      "name": "IMS-Purchasing_Products.ipynb",
      "provenance": []
    },
    "kernelspec": {
      "name": "python3",
      "display_name": "Python 3"
    },
    "language_info": {
      "name": "python"
    }
  },
  "cells": [
    {
      "cell_type": "code",
      "metadata": {
        "id": "lsqSy3N25wWI"
      },
      "source": [
        "import json"
      ],
      "execution_count": null,
      "outputs": []
    },
    {
      "cell_type": "code",
      "metadata": {
        "id": "po84fHxe7fcN"
      },
      "source": [
        "products=open(\"records.json\",'r')\n",
        "txt=products.read()\n",
        "products.close()"
      ],
      "execution_count": null,
      "outputs": []
    },
    {
      "cell_type": "code",
      "metadata": {
        "id": "ukiVGNKL8EpD"
      },
      "source": [
        "records=json.loads(txt)"
      ],
      "execution_count": null,
      "outputs": []
    },
    {
      "cell_type": "code",
      "metadata": {
        "id": "Ls82UnSz8QC2",
        "colab": {
          "base_uri": "https://localhost:8080/"
        },
        "outputId": "39dcf64e-b798-42bb-ec79-63aa5a379dbf"
      },
      "source": [
        "records"
      ],
      "execution_count": null,
      "outputs": [
        {
          "output_type": "execute_result",
          "data": {
            "text/plain": [
              "{'06231': {'expire_date': '1-1-2021',\n",
              "  'manufacture_date': '1-1-2020',\n",
              "  'price': 50,\n",
              "  'product_name': 'bread',\n",
              "  'quantity': 40,\n",
              "  'weight': 400},\n",
              " '062310': {'expire_date': '16-12-2020',\n",
              "  'manufacture_date': '16-12-2019',\n",
              "  'price': 30,\n",
              "  'product_name': 'kitkat',\n",
              "  'quantity': 28,\n",
              "  'weight': 30},\n",
              " '062311': {'expire_date': '29-12-2020',\n",
              "  'manufacture_date': '29-12-2019',\n",
              "  'price': 40,\n",
              "  'product_name': 'lays',\n",
              "  'quantity': 59,\n",
              "  'weight': 40},\n",
              " '062312': {'expire_date': '4-1-2021',\n",
              "  'manufacture_date': '4-1-2020',\n",
              "  'price': 45,\n",
              "  'product_name': 'barone',\n",
              "  'quantity': 82,\n",
              "  'weight': 34},\n",
              " '062313': {'expire_date': '30-1-2021',\n",
              "  'manufacture_date': '30-1-2020',\n",
              "  'price': 300,\n",
              "  'product_name': 'diary_milk',\n",
              "  'quantity': 50,\n",
              "  'weight': 200},\n",
              " '062314': {'expire_date': '1-11-2021',\n",
              "  'manufacture_date': '1-11-2020',\n",
              "  'price': 500,\n",
              "  'product_name': 'buttermilk',\n",
              "  'quantity': 29,\n",
              "  'weight': 400},\n",
              " '062315': {'expire_date': '2-11-2021',\n",
              "  'manufacture_date': '2-11-2020',\n",
              "  'price': 120,\n",
              "  'product_name': 'dark_fantasy',\n",
              "  'quantity': 120,\n",
              "  'weight': 350},\n",
              " '062316': {'expire_date': '9-11-2021',\n",
              "  'manufacture_date': '9-11-2020',\n",
              "  'price': 1000,\n",
              "  'product_name': 'cashew',\n",
              "  'quantity': 145,\n",
              "  'weight': 1000},\n",
              " '062317': {'expire_date': '10-11-2021',\n",
              "  'manufacture_date': '10-11-2020',\n",
              "  'price': 900,\n",
              "  'product_name': 'almond',\n",
              "  'quantity': 132,\n",
              "  'weight': 1200},\n",
              " '062318': {'expire_date': '20-11-2021',\n",
              "  'manufacture_date': '20-11-2020',\n",
              "  'price': 95,\n",
              "  'product_name': 'cooldrinks',\n",
              "  'quantity': 48,\n",
              "  'weight': 800},\n",
              " '062319': {'expire_date': '27-11-2021',\n",
              "  'manufacture_date': '27-11-2020',\n",
              "  'price': 500,\n",
              "  'product_name': 'curd',\n",
              "  'quantity': 36,\n",
              "  'weight': 300},\n",
              " '06232': {'expire_date': '5-9-2021',\n",
              "  'manufacture_date': '2-9-2021',\n",
              "  'price': 30,\n",
              "  'product_name': 'milk',\n",
              "  'quantity': 52,\n",
              "  'weight': 250},\n",
              " '062320': {'expire_date': '28-11-2021',\n",
              "  'manufacture_date': '28-11-2020',\n",
              "  'price': 60,\n",
              "  'product_name': 'toffee',\n",
              "  'quantity': 100,\n",
              "  'weight': 12},\n",
              " '062321': {'expire_date': '3-12-2021',\n",
              "  'manufacture_date': '3-12-2020',\n",
              "  'price': 100,\n",
              "  'product_name': '5_star',\n",
              "  'quantity': 73,\n",
              "  'weight': 40},\n",
              " '062322': {'expire_date': '3-2-2022',\n",
              "  'manufacture_date': '3-2-2021',\n",
              "  'price': 450,\n",
              "  'product_name': 'milk_powder',\n",
              "  'quantity': 200,\n",
              "  'weight': 50},\n",
              " '062323': {'expire_date': '4-2-2022',\n",
              "  'manufacture_date': '4-2-2021',\n",
              "  'price': 50,\n",
              "  'product_name': 'chocolate',\n",
              "  'quantity': 66,\n",
              "  'weight': 45},\n",
              " '062324': {'expire_date': '15-2-2022',\n",
              "  'manufacture_date': '15-2-2021',\n",
              "  'price': 40,\n",
              "  'product_name': 'bingo',\n",
              "  'quantity': 82,\n",
              "  'weight': 30},\n",
              " '062325': {'expire_date': '21-2-2022',\n",
              "  'manufacture_date': '21-2-2021',\n",
              "  'price': 50,\n",
              "  'product_name': 'gems',\n",
              "  'quantity': 57,\n",
              "  'weight': 45},\n",
              " '062326': {'expire_date': '7-4-2022',\n",
              "  'manufacture_date': '7-4-2021',\n",
              "  'price': 260,\n",
              "  'product_name': 'lion_dates',\n",
              "  'quantity': 86,\n",
              "  'weight': 700},\n",
              " '062327': {'expire_date': '30-6-2022',\n",
              "  'manufacture_date': '30-6-2021',\n",
              "  'price': 400,\n",
              "  'product_name': 'bourbon',\n",
              "  'quantity': 38,\n",
              "  'weight': 300},\n",
              " '062328': {'expire_date': '10-7-2022',\n",
              "  'manufacture_date': '10-7-2021',\n",
              "  'price': 70,\n",
              "  'product_name': 'oreo',\n",
              "  'quantity': 49,\n",
              "  'weight': 50},\n",
              " '062329': {'expire_date': '11-7-2022',\n",
              "  'manufacture_date': '11-7-2021',\n",
              "  'price': 2000,\n",
              "  'product_name': 'ghee',\n",
              "  'quantity': 45,\n",
              "  'weight': 1000},\n",
              " '06233': {'expire_date': '1-7-2021',\n",
              "  'manufacture_date': '1-7-2020',\n",
              "  'price': 120,\n",
              "  'product_name': 'cookies',\n",
              "  'quantity': 100,\n",
              "  'weight': 600},\n",
              " '062330': {'expire_date': '2-8-2022',\n",
              "  'manufacture_date': '2-8-2021',\n",
              "  'price': 450,\n",
              "  'product_name': 'coke',\n",
              "  'quantity': 63,\n",
              "  'weight': 500},\n",
              " '062331': {'expire_date': '3-8-2022',\n",
              "  'manufacture_date': '3-8-2021',\n",
              "  'price': 500,\n",
              "  'product_name': 'sweets',\n",
              "  'quantity': 40,\n",
              "  'weight': 430},\n",
              " '062332': {'expire_date': '1-9-2022',\n",
              "  'manufacture_date': '1-9-2021',\n",
              "  'price': 80,\n",
              "  'product_name': 'littlehearts',\n",
              "  'quantity': 59,\n",
              "  'weight': 90},\n",
              " '06234': {'expire_date': '1-8-2021',\n",
              "  'manufacture_date': '29-8-2021',\n",
              "  'price': 100,\n",
              "  'product_name': 'cake',\n",
              "  'quantity': 20,\n",
              "  'weight': 1000},\n",
              " '06235': {'expire_date': '1-9-2021',\n",
              "  'manufacture_date': '24-8-2021',\n",
              "  'price': 85,\n",
              "  'product_name': 'candy',\n",
              "  'quantity': 122,\n",
              "  'weight': 20},\n",
              " '06236': {'expire_date': '7-5-2020',\n",
              "  'manufacture_date': '7-1-2020',\n",
              "  'price': 650,\n",
              "  'product_name': 'butter',\n",
              "  'quantity': 56,\n",
              "  'weight': 670},\n",
              " '06237': {'expire_date': '6-7-2021',\n",
              "  'manufacture_date': '6-1-2021',\n",
              "  'price': 150,\n",
              "  'product_name': 'icecream',\n",
              "  'quantity': 900,\n",
              "  'weight': 400},\n",
              " '06238': {'expire_date': '8-12-2021',\n",
              "  'manufacture_date': '8-8-2020',\n",
              "  'price': 275,\n",
              "  'product_name': 'jam',\n",
              "  'quantity': 70,\n",
              "  'weight': 700},\n",
              " '06239': {'expire_date': '15-12-2020',\n",
              "  'manufacture_date': '15-12-2019',\n",
              "  'price': 670,\n",
              "  'product_name': 'ceese',\n",
              "  'quantity': 56,\n",
              "  'weight': 500}}"
            ]
          },
          "metadata": {},
          "execution_count": 4
        }
      ]
    },
    {
      "cell_type": "markdown",
      "metadata": {
        "id": "cWC8BlOS9EKr"
      },
      "source": [
        "# *Purchasing Products*"
      ]
    },
    {
      "cell_type": "code",
      "metadata": {
        "id": "KqaExkIp-AHU",
        "colab": {
          "base_uri": "https://localhost:8080/"
        },
        "outputId": "a47393ba-7550-4a8b-fe15-10d9a4b283d9"
      },
      "source": [
        "lst_products=[]\n",
        "lst_quantity=[]\n",
        "for i in range(0,5):\n",
        "  user_input_product=input(\"enter the product id :\")\n",
        "  user_input_quantity=int(input(\"enter the quantity :\"))\n",
        "  lst_products.append(user_input_product)\n",
        "  lst_quantity.append(user_input_quantity)\n",
        "  if user_input_product not in records:\n",
        "    print(\" Required Product of user is not available in Inventory\")\n",
        "  elif  user_input_product in records and user_input_quantity > records[user_input_product]['quantity']:\n",
        "    print(\"user_product:\",records[user_input_product]['product_name'])\n",
        "    print(\"required quantity of user product is not available\")\n",
        "  else:\n",
        "    print(\"user_product:\",records[user_input_product]['product_name'])\n",
        "    print(\"price of user product:\",records[user_input_product]['price'])\n",
        "    print(\"billing amount of user :\",records[user_input_product]['price']*user_input_quantity)\n",
        "    print(\"manufacture date of user product :\",records[user_input_product]['manufacture_date'])\n",
        "    print(\"expire date of user product :\",records[user_input_product][\"expire_date\"])\n",
        "    records[user_input_product]['quantity']=records[user_input_product]['quantity']-user_input_quantity\n",
        "    print(\"remaining quantity of id {} is {}\".format(user_input_product,records[user_input_product]['quantity']))\n",
        "  print(\"\\n\")"
      ],
      "execution_count": null,
      "outputs": [
        {
          "output_type": "stream",
          "name": "stdout",
          "text": [
            "enter the product id :06230\n",
            "enter the quantity :100\n",
            " Required Product of user is not available in Inventory\n",
            "\n",
            "\n",
            "enter the product id :062311\n",
            "enter the quantity :200\n",
            "user_product: lays\n",
            "required quantity of user product is not available\n",
            "\n",
            "\n",
            "enter the product id :06237\n",
            "enter the quantity :50\n",
            "user_product: icecream\n",
            "price of user product: 150\n",
            "billing amount of user : 7500\n",
            "manufacture date of user product : 6-1-2021\n",
            "expire date of user product : 6-7-2021\n",
            "remaining quantity of id 06237 is 850\n",
            "\n",
            "\n",
            "enter the product id :062315\n",
            "enter the quantity :25\n",
            "user_product: dark_fantasy\n",
            "price of user product: 120\n",
            "billing amount of user : 3000\n",
            "manufacture date of user product : 2-11-2020\n",
            "expire date of user product : 2-11-2021\n",
            "remaining quantity of id 062315 is 95\n",
            "\n",
            "\n",
            "enter the product id :062318\n",
            "enter the quantity :20\n",
            "user_product: cooldrinks\n",
            "price of user product: 95\n",
            "billing amount of user : 1900\n",
            "manufacture date of user product : 20-11-2020\n",
            "expire date of user product : 20-11-2021\n",
            "remaining quantity of id 062318 is 28\n",
            "\n",
            "\n"
          ]
        }
      ]
    },
    {
      "cell_type": "code",
      "metadata": {
        "colab": {
          "base_uri": "https://localhost:8080/"
        },
        "id": "G3Clag3ZriR_",
        "outputId": "5eb8bdb4-bbe5-4356-8ee1-9bdae8ca8d0a"
      },
      "source": [
        "print(lst_products)\n",
        "print(lst_quantity)"
      ],
      "execution_count": null,
      "outputs": [
        {
          "output_type": "stream",
          "name": "stdout",
          "text": [
            "['06230', '062311', '06237', '062315', '062318']\n",
            "[100, 200, 50, 25, 20]\n"
          ]
        }
      ]
    },
    {
      "cell_type": "markdown",
      "metadata": {
        "id": "c-xKmwzedILx"
      },
      "source": [
        "# *Updating Inventory after Purchase*"
      ]
    },
    {
      "cell_type": "code",
      "metadata": {
        "id": "AlVTHrBMsF4o"
      },
      "source": [
        "js=json.dumps(records)\n",
        "products=open('record.json','w')\n",
        "products.write(js)\n",
        "products.close()"
      ],
      "execution_count": null,
      "outputs": []
    },
    {
      "cell_type": "markdown",
      "metadata": {
        "id": "--HKVwe3eBoa"
      },
      "source": [
        "# *Sales JSON*"
      ]
    },
    {
      "cell_type": "code",
      "metadata": {
        "colab": {
          "base_uri": "https://localhost:8080/"
        },
        "id": "Of33aREj1Yu8",
        "outputId": "5fb128c0-d8c4-4010-8ddc-a9a0e7aeec5d"
      },
      "source": [
        "for i in range(len(lst_products)):\n",
        "  if lst_products[i] in records and lst_quantity[i]<records[lst_products[i]]['quantity']:\n",
        "    s={'product_id' : 8lst_products[i] , 'quantity': lst_quantity[i],'amount':records[lst_products[i]]['price']*lst_quantity[i],'weight':records[lst_products[i]]['weight'],'manufacture_date':records[lst_products[i]]['manufacture_date'],'expire_date':records[lst_products[i]]['expire_date']}\n",
        "    print(s)"
      ],
      "execution_count": null,
      "outputs": [
        {
          "output_type": "stream",
          "name": "stdout",
          "text": [
            "{'product_id': '06237', 'quantity': 50, 'amount': 7500, 'weight': 400, 'manufacture_date': '6-1-2021', 'expire_date': '6-7-2021'}\n",
            "{'product_id': '062315', 'quantity': 25, 'amount': 3000, 'weight': 350, 'manufacture_date': '2-11-2020', 'expire_date': '2-11-2021'}\n",
            "{'product_id': '062318', 'quantity': 20, 'amount': 1900, 'weight': 800, 'manufacture_date': '20-11-2020', 'expire_date': '20-11-2021'}\n"
          ]
        }
      ]
    },
    {
      "cell_type": "code",
      "metadata": {
        "colab": {
          "base_uri": "https://localhost:8080/"
        },
        "id": "yO6cAUNc7J1r",
        "outputId": "69dd1ee6-101c-4aaa-d17d-070aa701c5c2"
      },
      "source": [
        "l=[]\n",
        "for i in range(len(lst_products)):\n",
        "  if lst_products[i] in records and lst_quantity[i]<records[lst_products[i]]['quantity']:\n",
        "    s={'product_id' : lst_products[i] , 'quantity': lst_quantity[i],'amount':records[lst_products[i]]['price']*lst_quantity[i],'weight':records[lst_products[i]]['weight'],'manufacture_date':records[lst_products[i]]['manufacture_date'],'expire_date':records[lst_products[i]]['expire_date']}\n",
        "    l.append(s)\n",
        "sales={} \n",
        "for i in range(1,len(l)+1):\n",
        "  sales[i] =l[i-1] \n",
        "print(sales)"
      ],
      "execution_count": null,
      "outputs": [
        {
          "output_type": "stream",
          "name": "stdout",
          "text": [
            "{1: {'product_id': '06237', 'quantity': 50, 'amount': 7500, 'weight': 400, 'manufacture_date': '6-1-2021', 'expire_date': '6-7-2021'}, 2: {'product_id': '062315', 'quantity': 25, 'amount': 3000, 'weight': 350, 'manufacture_date': '2-11-2020', 'expire_date': '2-11-2021'}, 3: {'product_id': '062318', 'quantity': 20, 'amount': 1900, 'weight': 800, 'manufacture_date': '20-11-2020', 'expire_date': '20-11-2021'}}\n"
          ]
        }
      ]
    },
    {
      "cell_type": "code",
      "metadata": {
        "id": "pk0mqKdkFQBZ"
      },
      "source": [
        "sale = json.dumps(sales) \n"
      ],
      "execution_count": 37,
      "outputs": []
    },
    {
      "cell_type": "code",
      "metadata": {
        "colab": {
          "base_uri": "https://localhost:8080/",
          "height": 374
        },
        "id": "spTySezXF_aB",
        "outputId": "1b5d4afb-8bbe-49b8-8f00-452fa9bdfc2f"
      },
      "source": [
        "sale"
      ],
      "execution_count": 38,
      "outputs": [
        {
          "output_type": "execute_result",
          "data": {
            "application/vnd.google.colaboratory.intrinsic+json": {
              "type": "string"
            },
            "text/plain": [
              "'{\"1\": {\"product_id\": \"06237\", \"quantity\": 50, \"amount\": 7500, \"weight\": 400, \"manufacture_date\": \"6-1-2021\", \"expire_date\": \"6-7-2021\"}, \"2\": {\"product_id\": \"062315\", \"quantity\": 25, \"amount\": 3000, \"weight\": 350, \"manufacture_date\": \"2-11-2020\", \"expire_date\": \"2-11-2021\"}, \"3\": {\"product_id\": \"062318\", \"quantity\": 20, \"amount\": 1900, \"weight\": 800, \"manufacture_date\": \"20-11-2020\", \"expire_date\": \"20-11-2021\"}}'"
            ]
          },
          "metadata": {},
          "execution_count": 38
        }
      ]
    },
    {
      "cell_type": "code",
      "metadata": {
        "id": "kFqEKL02GjEr"
      },
      "source": [
        "from google.colab import drive\n",
        "drive.mount('/content/drive')"
      ],
      "execution_count": null,
      "outputs": []
    },
    {
      "cell_type": "markdown",
      "metadata": {
        "id": "Bbb_XlktFLbB"
      },
      "source": [
        ""
      ]
    }
  ]
}