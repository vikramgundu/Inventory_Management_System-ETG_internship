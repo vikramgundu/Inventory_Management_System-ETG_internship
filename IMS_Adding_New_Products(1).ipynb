{
  "nbformat": 4,
  "nbformat_minor": 0,
  "metadata": {
    "colab": {
      "name": "IMS-Adding_New_Products.ipynb",
      "provenance": []
    },
    "kernelspec": {
      "name": "python3",
      "display_name": "Python 3"
    },
    "language_info": {
      "name": "python"
    }
  },
  "cells": [
    {
      "cell_type": "code",
      "metadata": {
        "id": "iwAwkBC4tkif"
      },
      "source": [
        ""
      ],
      "execution_count": 1,
      "outputs": []
    },
    {
      "cell_type": "code",
      "metadata": {
        "id": "MhoTd-PSFUVT"
      },
      "source": [
        "import json"
      ],
      "execution_count": 2,
      "outputs": []
    },
    {
      "cell_type": "code",
      "metadata": {
        "id": "fk6AAXtTs3V2"
      },
      "source": [
        "products=open(\"records.json\",'r')\n",
        "text=products.read()\n",
        "products.close()"
      ],
      "execution_count": 3,
      "outputs": []
    },
    {
      "cell_type": "code",
      "metadata": {
        "id": "fP3LdnO4AuKD"
      },
      "source": [
        "record=json.loads(text)"
      ],
      "execution_count": 4,
      "outputs": []
    },
    {
      "cell_type": "code",
      "metadata": {
        "colab": {
          "base_uri": "https://localhost:8080/"
        },
        "id": "h5rgqx2EAuM9",
        "outputId": "80f18f53-001b-4972-b81f-8e9ebcc6dd77"
      },
      "source": [
        "record"
      ],
      "execution_count": 5,
      "outputs": [
        {
          "output_type": "execute_result",
          "data": {
            "text/plain": [
              "{'06231': {'expire_date': '1-1-2021',\n",
              "  'manufacture_date': '1-1-2020',\n",
              "  'price': 50,\n",
              "  'product_name': 'bread',\n",
              "  'quantity': 40,\n",
              "  'weight': 400},\n",
              " '06232': {'expire_date': '5-9-2021',\n",
              "  'manufacture_date': '2-9-2021',\n",
              "  'price': 30,\n",
              "  'product_name': 'milk',\n",
              "  'quantity': 52,\n",
              "  'weight': 250},\n",
              " '06233': {'expire_date': '1-7-2021',\n",
              "  'manufacture_date': '1-7-2020',\n",
              "  'price': 120,\n",
              "  'product_name': 'cookies',\n",
              "  'quantity': 100,\n",
              "  'weight': 600},\n",
              " '06234': {'expire_date': '1-8-2021',\n",
              "  'manufacture_date': '29-8-2021',\n",
              "  'price': 100,\n",
              "  'product_name': 'cake',\n",
              "  'quantity': 20,\n",
              "  'weight': 1000},\n",
              " '06235': {'expire_date': '1-9-2021',\n",
              "  'manufacture_date': '24-8-2021',\n",
              "  'price': 85,\n",
              "  'product_name': 'candy',\n",
              "  'quantity': 122,\n",
              "  'weight': 20},\n",
              " '06236': {'expire_date': '7-5-2020',\n",
              "  'manufacture_date': '7-1-2020',\n",
              "  'price': 650,\n",
              "  'product_name': 'butter',\n",
              "  'quantity': 56,\n",
              "  'weight': 670},\n",
              " '06237': {'expire_date': '6-7-2021',\n",
              "  'manufacture_date': '6-1-2021',\n",
              "  'price': 150,\n",
              "  'product_name': 'icecream',\n",
              "  'quantity': 900,\n",
              "  'weight': 400},\n",
              " '06238': {'expire_date': '8-12-2021',\n",
              "  'manufacture_date': '8-8-2020',\n",
              "  'price': 275,\n",
              "  'product_name': 'jam',\n",
              "  'quantity': 70,\n",
              "  'weight': 700}}"
            ]
          },
          "metadata": {},
          "execution_count": 5
        }
      ]
    },
    {
      "cell_type": "code",
      "metadata": {
        "colab": {
          "base_uri": "https://localhost:8080/"
        },
        "id": "tTQzMLu4AuPq",
        "outputId": "3e0fabd5-3d81-4c3a-de03-149720bbae83"
      },
      "source": [
        "for i in range(1,25):\n",
        "  product_id=input(\"enter product id:\")\n",
        "  product_name=input(\"enter product name:\")\n",
        "  price=int(input(\"enter price:\"))\n",
        "  quantity=int(input(\"enter quantity:\"))\n",
        "  weight=int(input(\"enter weight of product:\"))\n",
        "  manufacture_date=input(\"enter manufacture date:\")\n",
        "  expire_date=input(\"enter expire date:\")\n",
        "  record[product_id]={'product_name':product_name,'price':price,'quantity':quantity,'weight':weight,'manufacture_date':manufacture_date,'expire_date':expire_date}\n",
        "  js=json.dumps(record)\n",
        "products=open(\"records.json\",'w')\n",
        "products.write(js)\n",
        "products.close()\n"
      ],
      "execution_count": 7,
      "outputs": [
        {
          "name": "stdout",
          "output_type": "stream",
          "text": [
            "enter product id:06239\n",
            "enter product name:ceese\n",
            "enter price:670\n",
            "enter quantity:56\n",
            "enter weight of product:500\n",
            "enter manufacture date:15-12-2019\n",
            "enter expire date:15-12-2020\n",
            "enter product id:062310\n",
            "enter product name:kitkat\n",
            "enter price:30\n",
            "enter quantity:28\n",
            "enter weight of product:30\n",
            "enter manufacture date:16-12-2019\n",
            "enter expire date:16-12-2020\n",
            "enter product id:062311\n",
            "enter product name:lays\n",
            "enter price:40\n",
            "enter quantity:59\n",
            "enter weight of product:40\n",
            "enter manufacture date:29-12-2019\n",
            "enter expire date:29-12-2020\n",
            "enter product id:062312\n",
            "enter product name:barone\n",
            "enter price:45\n",
            "enter quantity:82\n",
            "enter weight of product:34\n",
            "enter manufacture date:4-1-2020\n",
            "enter expire date:4-1-2021\n",
            "enter product id:062313\n",
            "enter product name:diary_milk\n",
            "enter price:300\n",
            "enter quantity:50\n",
            "enter weight of product:200\n",
            "enter manufacture date:30-1-2020\n",
            "enter expire date:30-1-2021\n",
            "enter product id:062314\n",
            "enter product name:buttermilk\n",
            "enter price:500\n",
            "enter quantity:29\n",
            "enter weight of product:400\n",
            "enter manufacture date:1-11-2020\n",
            "enter expire date:1-11-2021\n",
            "enter product id:062315\n",
            "enter product name:dark_fantasy\n",
            "enter price:120\n",
            "enter quantity:120\n",
            "enter weight of product:350\n",
            "enter manufacture date:2-11-2020\n",
            "enter expire date:2-11-2021\n",
            "enter product id:062316\n",
            "enter product name:cashew\n",
            "enter price:1000\n",
            "enter quantity:145\n",
            "enter weight of product:1000\n",
            "enter manufacture date:9-11-2020\n",
            "enter expire date:9-11-2021\n",
            "enter product id:062317\n",
            "enter product name:almond\n",
            "enter price:900\n",
            "enter quantity:132\n",
            "enter weight of product:1200\n",
            "enter manufacture date:10-11-2020\n",
            "enter expire date:10-11-2021\n",
            "enter product id:062318\n",
            "enter product name:cooldrinks\n",
            "enter price:95\n",
            "enter quantity:48\n",
            "enter weight of product:800\n",
            "enter manufacture date:20-11-2020\n",
            "enter expire date:20-11-2021\n",
            "enter product id:062319\n",
            "enter product name:curd\n",
            "enter price:500\n",
            "enter quantity:36\n",
            "enter weight of product:300\n",
            "enter manufacture date:27-11-2020\n",
            "enter expire date:27-11-2021\n",
            "enter product id:062320\n",
            "enter product name:toffee\n",
            "enter price:60\n",
            "enter quantity:100\n",
            "enter weight of product:12\n",
            "enter manufacture date:28-11-2020\n",
            "enter expire date:28-11-2021\n",
            "enter product id:062321\n",
            "enter product name:5_star\n",
            "enter price:100\n",
            "enter quantity:73\n",
            "enter weight of product:40\n",
            "enter manufacture date:3-12-2020\n",
            "enter expire date:3-12-2021\n",
            "enter product id:062322\n",
            "enter product name:milk_powder\n",
            "enter price:450\n",
            "enter quantity:200\n",
            "enter weight of product:50\n",
            "enter manufacture date:3-2-2021\n",
            "enter expire date:3-2-2022\n",
            "enter product id:062323\n",
            "enter product name:chocolate\n",
            "enter price:50\n",
            "enter quantity:66\n",
            "enter weight of product:45\n",
            "enter manufacture date:4-2-2021\n",
            "enter expire date:4-2-2022\n",
            "enter product id:062324\n",
            "enter product name:bingo\n",
            "enter price:40\n",
            "enter quantity:82\n",
            "enter weight of product:30\n",
            "enter manufacture date:15-2-2021\n",
            "enter expire date:15-2-2022\n",
            "enter product id:062325\n",
            "enter product name:gems\n",
            "enter price:50\n",
            "enter quantity:57\n",
            "enter weight of product:45\n",
            "enter manufacture date:21-2-2021\n",
            "enter expire date:21-2-2022\n",
            "enter product id:062326\n",
            "enter product name:lion_dates\n",
            "enter price:260\n",
            "enter quantity:86\n",
            "enter weight of product:700\n",
            "enter manufacture date:7-4-2021\n",
            "enter expire date:7-4-2022\n",
            "enter product id:062327\n",
            "enter product name:bourbon\n",
            "enter price:400\n",
            "enter quantity:38\n",
            "enter weight of product:300\n",
            "enter manufacture date:30-6-2021\n",
            "enter expire date:30-6-2022\n",
            "enter product id:062328\n",
            "enter product name:oreo\n",
            "enter price:70\n",
            "enter quantity:49\n",
            "enter weight of product:50\n",
            "enter manufacture date:10-7-2021\n",
            "enter expire date:10-7-2022\n",
            "enter product id:062329\n",
            "enter product name:ghee\n",
            "enter price:2000\n",
            "enter quantity:45\n",
            "enter weight of product:1000\n",
            "enter manufacture date:11-7-2021\n",
            "enter expire date:11-7-2022\n",
            "enter product id:062330\n",
            "enter product name:coke\n",
            "enter price:450\n",
            "enter quantity:63\n",
            "enter weight of product:500\n",
            "enter manufacture date:2-8-2021\n",
            "enter expire date:2-8-2022\n",
            "enter product id:062331\n",
            "enter product name:sweets\n",
            "enter price:500\n",
            "enter quantity:40\n",
            "enter weight of product:430\n",
            "enter manufacture date:3-8-2021\n",
            "enter expire date:3-8-2022\n",
            "enter product id:062332\n",
            "enter product name:littlehearts\n",
            "enter price:80\n",
            "enter quantity:59\n",
            "enter weight of product:90\n",
            "enter manufacture date:1-9-2021\n",
            "enter expire date:1-9-2022\n"
          ]
        }
      ]
    },
    {
      "cell_type": "code",
      "metadata": {
        "colab": {
          "base_uri": "https://localhost:8080/"
        },
        "id": "kQljMlfN0XdL",
        "outputId": "22f76c8c-d955-4f8c-926c-4cd026a430cd"
      },
      "source": [
        "record"
      ],
      "execution_count": 8,
      "outputs": [
        {
          "output_type": "execute_result",
          "data": {
            "text/plain": [
              "{'06231': {'expire_date': '1-1-2021',\n",
              "  'manufacture_date': '1-1-2020',\n",
              "  'price': 50,\n",
              "  'product_name': 'bread',\n",
              "  'quantity': 40,\n",
              "  'weight': 400},\n",
              " '062310': {'expire_date': '16-12-2020',\n",
              "  'manufacture_date': '16-12-2019',\n",
              "  'price': 30,\n",
              "  'product_name': 'kitkat',\n",
              "  'quantity': 28,\n",
              "  'weight': 30},\n",
              " '062311': {'expire_date': '29-12-2020',\n",
              "  'manufacture_date': '29-12-2019',\n",
              "  'price': 40,\n",
              "  'product_name': 'lays',\n",
              "  'quantity': 59,\n",
              "  'weight': 40},\n",
              " '062312': {'expire_date': '4-1-2021',\n",
              "  'manufacture_date': '4-1-2020',\n",
              "  'price': 45,\n",
              "  'product_name': 'barone',\n",
              "  'quantity': 82,\n",
              "  'weight': 34},\n",
              " '062313': {'expire_date': '30-1-2021',\n",
              "  'manufacture_date': '30-1-2020',\n",
              "  'price': 300,\n",
              "  'product_name': 'diary_milk',\n",
              "  'quantity': 50,\n",
              "  'weight': 200},\n",
              " '062314': {'expire_date': '1-11-2021',\n",
              "  'manufacture_date': '1-11-2020',\n",
              "  'price': 500,\n",
              "  'product_name': 'buttermilk',\n",
              "  'quantity': 29,\n",
              "  'weight': 400},\n",
              " '062315': {'expire_date': '2-11-2021',\n",
              "  'manufacture_date': '2-11-2020',\n",
              "  'price': 120,\n",
              "  'product_name': 'dark_fantasy',\n",
              "  'quantity': 120,\n",
              "  'weight': 350},\n",
              " '062316': {'expire_date': '9-11-2021',\n",
              "  'manufacture_date': '9-11-2020',\n",
              "  'price': 1000,\n",
              "  'product_name': 'cashew',\n",
              "  'quantity': 145,\n",
              "  'weight': 1000},\n",
              " '062317': {'expire_date': '10-11-2021',\n",
              "  'manufacture_date': '10-11-2020',\n",
              "  'price': 900,\n",
              "  'product_name': 'almond',\n",
              "  'quantity': 132,\n",
              "  'weight': 1200},\n",
              " '062318': {'expire_date': '20-11-2021',\n",
              "  'manufacture_date': '20-11-2020',\n",
              "  'price': 95,\n",
              "  'product_name': 'cooldrinks',\n",
              "  'quantity': 48,\n",
              "  'weight': 800},\n",
              " '062319': {'expire_date': '27-11-2021',\n",
              "  'manufacture_date': '27-11-2020',\n",
              "  'price': 500,\n",
              "  'product_name': 'curd',\n",
              "  'quantity': 36,\n",
              "  'weight': 300},\n",
              " '06232': {'expire_date': '5-9-2021',\n",
              "  'manufacture_date': '2-9-2021',\n",
              "  'price': 30,\n",
              "  'product_name': 'milk',\n",
              "  'quantity': 52,\n",
              "  'weight': 250},\n",
              " '062320': {'expire_date': '28-11-2021',\n",
              "  'manufacture_date': '28-11-2020',\n",
              "  'price': 60,\n",
              "  'product_name': 'toffee',\n",
              "  'quantity': 100,\n",
              "  'weight': 12},\n",
              " '062321': {'expire_date': '3-12-2021',\n",
              "  'manufacture_date': '3-12-2020',\n",
              "  'price': 100,\n",
              "  'product_name': '5_star',\n",
              "  'quantity': 73,\n",
              "  'weight': 40},\n",
              " '062322': {'expire_date': '3-2-2022',\n",
              "  'manufacture_date': '3-2-2021',\n",
              "  'price': 450,\n",
              "  'product_name': 'milk_powder',\n",
              "  'quantity': 200,\n",
              "  'weight': 50},\n",
              " '062323': {'expire_date': '4-2-2022',\n",
              "  'manufacture_date': '4-2-2021',\n",
              "  'price': 50,\n",
              "  'product_name': 'chocolate',\n",
              "  'quantity': 66,\n",
              "  'weight': 45},\n",
              " '062324': {'expire_date': '15-2-2022',\n",
              "  'manufacture_date': '15-2-2021',\n",
              "  'price': 40,\n",
              "  'product_name': 'bingo',\n",
              "  'quantity': 82,\n",
              "  'weight': 30},\n",
              " '062325': {'expire_date': '21-2-2022',\n",
              "  'manufacture_date': '21-2-2021',\n",
              "  'price': 50,\n",
              "  'product_name': 'gems',\n",
              "  'quantity': 57,\n",
              "  'weight': 45},\n",
              " '062326': {'expire_date': '7-4-2022',\n",
              "  'manufacture_date': '7-4-2021',\n",
              "  'price': 260,\n",
              "  'product_name': 'lion_dates',\n",
              "  'quantity': 86,\n",
              "  'weight': 700},\n",
              " '062327': {'expire_date': '30-6-2022',\n",
              "  'manufacture_date': '30-6-2021',\n",
              "  'price': 400,\n",
              "  'product_name': 'bourbon',\n",
              "  'quantity': 38,\n",
              "  'weight': 300},\n",
              " '062328': {'expire_date': '10-7-2022',\n",
              "  'manufacture_date': '10-7-2021',\n",
              "  'price': 70,\n",
              "  'product_name': 'oreo',\n",
              "  'quantity': 49,\n",
              "  'weight': 50},\n",
              " '062329': {'expire_date': '11-7-2022',\n",
              "  'manufacture_date': '11-7-2021',\n",
              "  'price': 2000,\n",
              "  'product_name': 'ghee',\n",
              "  'quantity': 45,\n",
              "  'weight': 1000},\n",
              " '06233': {'expire_date': '1-7-2021',\n",
              "  'manufacture_date': '1-7-2020',\n",
              "  'price': 120,\n",
              "  'product_name': 'cookies',\n",
              "  'quantity': 100,\n",
              "  'weight': 600},\n",
              " '062330': {'expire_date': '2-8-2022',\n",
              "  'manufacture_date': '2-8-2021',\n",
              "  'price': 450,\n",
              "  'product_name': 'coke',\n",
              "  'quantity': 63,\n",
              "  'weight': 500},\n",
              " '062331': {'expire_date': '3-8-2022',\n",
              "  'manufacture_date': '3-8-2021',\n",
              "  'price': 500,\n",
              "  'product_name': 'sweets',\n",
              "  'quantity': 40,\n",
              "  'weight': 430},\n",
              " '062332': {'expire_date': '1-9-2022',\n",
              "  'manufacture_date': '1-9-2021',\n",
              "  'price': 80,\n",
              "  'product_name': 'littlehearts',\n",
              "  'quantity': 59,\n",
              "  'weight': 90},\n",
              " '06234': {'expire_date': '1-8-2021',\n",
              "  'manufacture_date': '29-8-2021',\n",
              "  'price': 100,\n",
              "  'product_name': 'cake',\n",
              "  'quantity': 20,\n",
              "  'weight': 1000},\n",
              " '06235': {'expire_date': '1-9-2021',\n",
              "  'manufacture_date': '24-8-2021',\n",
              "  'price': 85,\n",
              "  'product_name': 'candy',\n",
              "  'quantity': 122,\n",
              "  'weight': 20},\n",
              " '06236': {'expire_date': '7-5-2020',\n",
              "  'manufacture_date': '7-1-2020',\n",
              "  'price': 650,\n",
              "  'product_name': 'butter',\n",
              "  'quantity': 56,\n",
              "  'weight': 670},\n",
              " '06237': {'expire_date': '6-7-2021',\n",
              "  'manufacture_date': '6-1-2021',\n",
              "  'price': 150,\n",
              "  'product_name': 'icecream',\n",
              "  'quantity': 900,\n",
              "  'weight': 400},\n",
              " '06238': {'expire_date': '8-12-2021',\n",
              "  'manufacture_date': '8-8-2020',\n",
              "  'price': 275,\n",
              "  'product_name': 'jam',\n",
              "  'quantity': 70,\n",
              "  'weight': 700},\n",
              " '06239': {'expire_date': '15-12-2020',\n",
              "  'manufacture_date': '15-12-2019',\n",
              "  'price': 670,\n",
              "  'product_name': 'ceese',\n",
              "  'quantity': 56,\n",
              "  'weight': 500}}"
            ]
          },
          "metadata": {},
          "execution_count": 8
        }
      ]
    },
    {
      "cell_type": "markdown",
      "metadata": {
        "id": "0-Ld8Zbr1VLn"
      },
      "source": [
        "# *Updating Values*"
      ]
    },
    {
      "cell_type": "code",
      "metadata": {
        "id": "xvXPJ5yZ2-Vg"
      },
      "source": [
        "record['062320']['product_name']='chips'"
      ],
      "execution_count": 17,
      "outputs": []
    },
    {
      "cell_type": "code",
      "metadata": {
        "colab": {
          "base_uri": "https://localhost:8080/"
        },
        "id": "L8IqwFyZ3LD2",
        "outputId": "de18ec47-9431-4477-ab67-2b4cbdf4782e"
      },
      "source": [
        "record['062320']"
      ],
      "execution_count": 18,
      "outputs": [
        {
          "output_type": "execute_result",
          "data": {
            "text/plain": [
              "{'expire_date': '28-11-2021',\n",
              " 'manufacture_date': '28-11-2020',\n",
              " 'price': 60,\n",
              " 'product_name': 'chips',\n",
              " 'quantity': 100,\n",
              " 'weight': 12}"
            ]
          },
          "metadata": {},
          "execution_count": 18
        }
      ]
    },
    {
      "cell_type": "code",
      "metadata": {
        "id": "Xl5bROZo1c6N"
      },
      "source": [
        "record['062314']['price']=2000"
      ],
      "execution_count": 9,
      "outputs": []
    },
    {
      "cell_type": "code",
      "metadata": {
        "colab": {
          "base_uri": "https://localhost:8080/"
        },
        "id": "HjzOTjb_1wXb",
        "outputId": "a269c3d3-b587-4c7d-bdfb-81a7b709dcbf"
      },
      "source": [
        "record['062314']"
      ],
      "execution_count": 10,
      "outputs": [
        {
          "output_type": "execute_result",
          "data": {
            "text/plain": [
              "{'expire_date': '1-11-2021',\n",
              " 'manufacture_date': '1-11-2020',\n",
              " 'price': 2000,\n",
              " 'product_name': 'buttermilk',\n",
              " 'quantity': 29,\n",
              " 'weight': 400}"
            ]
          },
          "metadata": {},
          "execution_count": 10
        }
      ]
    },
    {
      "cell_type": "code",
      "metadata": {
        "id": "adpYTz52101N"
      },
      "source": [
        "record['06238']['manufacture_date']='24-04-2015'\n",
        "record['06238']['expire_date']='24-04-2021'"
      ],
      "execution_count": 11,
      "outputs": []
    },
    {
      "cell_type": "code",
      "metadata": {
        "colab": {
          "base_uri": "https://localhost:8080/"
        },
        "id": "Ovuey-Yb2RS_",
        "outputId": "baee51fb-0cc2-4b57-a6ec-a0fa8c3be656"
      },
      "source": [
        "record['06238']"
      ],
      "execution_count": 12,
      "outputs": [
        {
          "output_type": "execute_result",
          "data": {
            "text/plain": [
              "{'expire_date': '24-04-2021',\n",
              " 'manufacture_date': '24-04-2015',\n",
              " 'price': 275,\n",
              " 'product_name': 'jam',\n",
              " 'quantity': 70,\n",
              " 'weight': 700}"
            ]
          },
          "metadata": {},
          "execution_count": 12
        }
      ]
    },
    {
      "cell_type": "code",
      "metadata": {
        "id": "fjxjCRDL2Vg9"
      },
      "source": [
        "record['062311']['weight']=100"
      ],
      "execution_count": 13,
      "outputs": []
    },
    {
      "cell_type": "code",
      "metadata": {
        "colab": {
          "base_uri": "https://localhost:8080/"
        },
        "id": "u-InlOJH2ieL",
        "outputId": "d5e2bcd1-57bb-429a-f94d-51fa433bdffd"
      },
      "source": [
        "record['062311']"
      ],
      "execution_count": 14,
      "outputs": [
        {
          "output_type": "execute_result",
          "data": {
            "text/plain": [
              "{'expire_date': '29-12-2020',\n",
              " 'manufacture_date': '29-12-2019',\n",
              " 'price': 40,\n",
              " 'product_name': 'lays',\n",
              " 'quantity': 59,\n",
              " 'weight': 100}"
            ]
          },
          "metadata": {},
          "execution_count": 14
        }
      ]
    },
    {
      "cell_type": "code",
      "metadata": {
        "id": "WMD5ltF42lVo"
      },
      "source": [
        "record['062327']['quantity']=95"
      ],
      "execution_count": 15,
      "outputs": []
    },
    {
      "cell_type": "code",
      "metadata": {
        "colab": {
          "base_uri": "https://localhost:8080/"
        },
        "id": "rI3KWWXd2xhf",
        "outputId": "0fdc97e7-9ad4-4650-ec67-ef433023a5ca"
      },
      "source": [
        "record['062327']"
      ],
      "execution_count": 16,
      "outputs": [
        {
          "output_type": "execute_result",
          "data": {
            "text/plain": [
              "{'expire_date': '30-6-2022',\n",
              " 'manufacture_date': '30-6-2021',\n",
              " 'price': 400,\n",
              " 'product_name': 'bourbon',\n",
              " 'quantity': 95,\n",
              " 'weight': 300}"
            ]
          },
          "metadata": {},
          "execution_count": 16
        }
      ]
    },
    {
      "cell_type": "markdown",
      "metadata": {
        "id": "TAi55h5F3Yvx"
      },
      "source": [
        "# *Deleting Records From IRS*"
      ]
    },
    {
      "cell_type": "code",
      "metadata": {
        "id": "9ROeRqik3nRl"
      },
      "source": [
        "del record['06233']"
      ],
      "execution_count": 19,
      "outputs": []
    },
    {
      "cell_type": "code",
      "metadata": {
        "id": "TTn81xqg3tsr"
      },
      "source": [
        "del record['06235']"
      ],
      "execution_count": 20,
      "outputs": []
    },
    {
      "cell_type": "code",
      "metadata": {
        "colab": {
          "base_uri": "https://localhost:8080/"
        },
        "id": "OQw96bg7317q",
        "outputId": "c733a29b-06f7-4c0e-8971-2a3c5f3c584a"
      },
      "source": [
        "record"
      ],
      "execution_count": 21,
      "outputs": [
        {
          "output_type": "execute_result",
          "data": {
            "text/plain": [
              "{'06231': {'expire_date': '1-1-2021',\n",
              "  'manufacture_date': '1-1-2020',\n",
              "  'price': 50,\n",
              "  'product_name': 'bread',\n",
              "  'quantity': 40,\n",
              "  'weight': 400},\n",
              " '062310': {'expire_date': '16-12-2020',\n",
              "  'manufacture_date': '16-12-2019',\n",
              "  'price': 30,\n",
              "  'product_name': 'kitkat',\n",
              "  'quantity': 28,\n",
              "  'weight': 30},\n",
              " '062311': {'expire_date': '29-12-2020',\n",
              "  'manufacture_date': '29-12-2019',\n",
              "  'price': 40,\n",
              "  'product_name': 'lays',\n",
              "  'quantity': 59,\n",
              "  'weight': 100},\n",
              " '062312': {'expire_date': '4-1-2021',\n",
              "  'manufacture_date': '4-1-2020',\n",
              "  'price': 45,\n",
              "  'product_name': 'barone',\n",
              "  'quantity': 82,\n",
              "  'weight': 34},\n",
              " '062313': {'expire_date': '30-1-2021',\n",
              "  'manufacture_date': '30-1-2020',\n",
              "  'price': 300,\n",
              "  'product_name': 'diary_milk',\n",
              "  'quantity': 50,\n",
              "  'weight': 200},\n",
              " '062314': {'expire_date': '1-11-2021',\n",
              "  'manufacture_date': '1-11-2020',\n",
              "  'price': 2000,\n",
              "  'product_name': 'buttermilk',\n",
              "  'quantity': 29,\n",
              "  'weight': 400},\n",
              " '062315': {'expire_date': '2-11-2021',\n",
              "  'manufacture_date': '2-11-2020',\n",
              "  'price': 120,\n",
              "  'product_name': 'dark_fantasy',\n",
              "  'quantity': 120,\n",
              "  'weight': 350},\n",
              " '062316': {'expire_date': '9-11-2021',\n",
              "  'manufacture_date': '9-11-2020',\n",
              "  'price': 1000,\n",
              "  'product_name': 'cashew',\n",
              "  'quantity': 145,\n",
              "  'weight': 1000},\n",
              " '062317': {'expire_date': '10-11-2021',\n",
              "  'manufacture_date': '10-11-2020',\n",
              "  'price': 900,\n",
              "  'product_name': 'almond',\n",
              "  'quantity': 132,\n",
              "  'weight': 1200},\n",
              " '062318': {'expire_date': '20-11-2021',\n",
              "  'manufacture_date': '20-11-2020',\n",
              "  'price': 95,\n",
              "  'product_name': 'cooldrinks',\n",
              "  'quantity': 48,\n",
              "  'weight': 800},\n",
              " '062319': {'expire_date': '27-11-2021',\n",
              "  'manufacture_date': '27-11-2020',\n",
              "  'price': 500,\n",
              "  'product_name': 'curd',\n",
              "  'quantity': 36,\n",
              "  'weight': 300},\n",
              " '06232': {'expire_date': '5-9-2021',\n",
              "  'manufacture_date': '2-9-2021',\n",
              "  'price': 30,\n",
              "  'product_name': 'milk',\n",
              "  'quantity': 52,\n",
              "  'weight': 250},\n",
              " '062320': {'expire_date': '28-11-2021',\n",
              "  'manufacture_date': '28-11-2020',\n",
              "  'price': 60,\n",
              "  'product_name': 'chips',\n",
              "  'quantity': 100,\n",
              "  'weight': 12},\n",
              " '062321': {'expire_date': '3-12-2021',\n",
              "  'manufacture_date': '3-12-2020',\n",
              "  'price': 100,\n",
              "  'product_name': '5_star',\n",
              "  'quantity': 73,\n",
              "  'weight': 40},\n",
              " '062322': {'expire_date': '3-2-2022',\n",
              "  'manufacture_date': '3-2-2021',\n",
              "  'price': 450,\n",
              "  'product_name': 'milk_powder',\n",
              "  'quantity': 200,\n",
              "  'weight': 50},\n",
              " '062323': {'expire_date': '4-2-2022',\n",
              "  'manufacture_date': '4-2-2021',\n",
              "  'price': 50,\n",
              "  'product_name': 'chocolate',\n",
              "  'quantity': 66,\n",
              "  'weight': 45},\n",
              " '062324': {'expire_date': '15-2-2022',\n",
              "  'manufacture_date': '15-2-2021',\n",
              "  'price': 40,\n",
              "  'product_name': 'bingo',\n",
              "  'quantity': 82,\n",
              "  'weight': 30},\n",
              " '062325': {'expire_date': '21-2-2022',\n",
              "  'manufacture_date': '21-2-2021',\n",
              "  'price': 50,\n",
              "  'product_name': 'gems',\n",
              "  'quantity': 57,\n",
              "  'weight': 45},\n",
              " '062326': {'expire_date': '7-4-2022',\n",
              "  'manufacture_date': '7-4-2021',\n",
              "  'price': 260,\n",
              "  'product_name': 'lion_dates',\n",
              "  'quantity': 86,\n",
              "  'weight': 700},\n",
              " '062327': {'expire_date': '30-6-2022',\n",
              "  'manufacture_date': '30-6-2021',\n",
              "  'price': 400,\n",
              "  'product_name': 'bourbon',\n",
              "  'quantity': 95,\n",
              "  'weight': 300},\n",
              " '062328': {'expire_date': '10-7-2022',\n",
              "  'manufacture_date': '10-7-2021',\n",
              "  'price': 70,\n",
              "  'product_name': 'oreo',\n",
              "  'quantity': 49,\n",
              "  'weight': 50},\n",
              " '062329': {'expire_date': '11-7-2022',\n",
              "  'manufacture_date': '11-7-2021',\n",
              "  'price': 2000,\n",
              "  'product_name': 'ghee',\n",
              "  'quantity': 45,\n",
              "  'weight': 1000},\n",
              " '062330': {'expire_date': '2-8-2022',\n",
              "  'manufacture_date': '2-8-2021',\n",
              "  'price': 450,\n",
              "  'product_name': 'coke',\n",
              "  'quantity': 63,\n",
              "  'weight': 500},\n",
              " '062331': {'expire_date': '3-8-2022',\n",
              "  'manufacture_date': '3-8-2021',\n",
              "  'price': 500,\n",
              "  'product_name': 'sweets',\n",
              "  'quantity': 40,\n",
              "  'weight': 430},\n",
              " '062332': {'expire_date': '1-9-2022',\n",
              "  'manufacture_date': '1-9-2021',\n",
              "  'price': 80,\n",
              "  'product_name': 'littlehearts',\n",
              "  'quantity': 59,\n",
              "  'weight': 90},\n",
              " '06234': {'expire_date': '1-8-2021',\n",
              "  'manufacture_date': '29-8-2021',\n",
              "  'price': 100,\n",
              "  'product_name': 'cake',\n",
              "  'quantity': 20,\n",
              "  'weight': 1000},\n",
              " '06236': {'expire_date': '7-5-2020',\n",
              "  'manufacture_date': '7-1-2020',\n",
              "  'price': 650,\n",
              "  'product_name': 'butter',\n",
              "  'quantity': 56,\n",
              "  'weight': 670},\n",
              " '06237': {'expire_date': '6-7-2021',\n",
              "  'manufacture_date': '6-1-2021',\n",
              "  'price': 150,\n",
              "  'product_name': 'icecream',\n",
              "  'quantity': 900,\n",
              "  'weight': 400},\n",
              " '06238': {'expire_date': '24-04-2021',\n",
              "  'manufacture_date': '24-04-2015',\n",
              "  'price': 275,\n",
              "  'product_name': 'jam',\n",
              "  'quantity': 70,\n",
              "  'weight': 700},\n",
              " '06239': {'expire_date': '15-12-2020',\n",
              "  'manufacture_date': '15-12-2019',\n",
              "  'price': 670,\n",
              "  'product_name': 'ceese',\n",
              "  'quantity': 56,\n",
              "  'weight': 500}}"
            ]
          },
          "metadata": {},
          "execution_count": 21
        }
      ]
    }
  ]
}